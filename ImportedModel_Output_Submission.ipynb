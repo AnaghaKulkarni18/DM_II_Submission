{
 "cells": [
  {
   "cell_type": "code",
   "execution_count": 1,
   "metadata": {},
   "outputs": [
    {
     "data": {
      "text/plain": [
       "XGBRegressor(base_score=0.5, booster='gbtree', colsample_bylevel=1,\n",
       "             colsample_bynode=1, colsample_bytree=0.5, gamma=0, gpu_id=-1,\n",
       "             importance_type='gain', interaction_constraints='',\n",
       "             learning_rate=0.05, max_delta_step=0, max_depth=5,\n",
       "             min_child_weight=5, missing=nan, monotone_constraints='()',\n",
       "             n_estimators=1000, n_jobs=4, num_parallel_tree=1, random_state=30,\n",
       "             reg_alpha=0, reg_lambda=1, scale_pos_weight=1, subsample=0.7,\n",
       "             tree_method='exact', validate_parameters=1, verbosity=None)"
      ]
     },
     "execution_count": 1,
     "metadata": {},
     "output_type": "execute_result"
    }
   ],
   "source": [
    "import joblib\n",
    "import numpy as np\n",
    "\n",
    "model = joblib.load('HousePricePred_model.pkl')\n",
    "model"
   ]
  },
  {
   "cell_type": "raw",
   "metadata": {},
   "source": [
    "# Features selected are as follows :-\n",
    "\n",
    "['LotArea', 'GrLivArea', '1stFlrSF', 'GarageArea', 'BsmtUnfSF', 'TotalBsmtSF', \n",
    "                                       'LotFrontage', 'YearBuilt', 'MoSold', 'GarageYrBlt','BsmtFinSF1','YearRemodAdd', \n",
    "                                       'OpenPorchSF', 'WoodDeckSF', 'Neighborhood', 'MasVnrArea', 'OverallQual', '2ndFlrSF', \n",
    "                                       'TotRmsAbvGrd', 'Exterior1st']"
   ]
  },
  {
   "cell_type": "code",
   "execution_count": 2,
   "metadata": {},
   "outputs": [
    {
     "name": "stdout",
     "output_type": "stream",
     "text": [
      "The Sale Price is  [209078.62]\n"
     ]
    }
   ],
   "source": [
    "# This is record 0 in the main file (dataframe)\n",
    "\n",
    "inputval_a = np.array([[8450,1710,856,548,150,856,65.0,2003,2,2003.0,706,2003,61,0,0,196.0,7,854,8, 0]])\n",
    "\n",
    "# In the deployment please enter - Neighborhood = CollgCr, Exterior1st = VinylSd\n",
    "\n",
    "# Output - SalePrice\n",
    "\n",
    "model.predict(inputval_a)\n",
    "print (\"The Sale Price is \", model.predict(inputval_a))"
   ]
  },
  {
   "cell_type": "code",
   "execution_count": 3,
   "metadata": {},
   "outputs": [
    {
     "name": "stdout",
     "output_type": "stream",
     "text": [
      "The Sale Price is  [179981.78]\n"
     ]
    }
   ],
   "source": [
    "# This is record 1 in the main file (dataframe)\n",
    "\n",
    "inputval_b = np.array([[9600, 1262, 1262, 460, 284, 1262, 80.0, 1976, 5, 1976.0, 978, 1976, 0, 298, 1, 0.0, 6, 0, 6, 2]])\n",
    "\n",
    "# In the deployment please enter - Neighborhood = Veenker, Exterior1st = MetalSd\n",
    "\n",
    "# Output - SalePrice\n",
    "\n",
    "model.predict(inputval_b)\n",
    "print (\"The Sale Price is \", model.predict(inputval_b))"
   ]
  },
  {
   "cell_type": "code",
   "execution_count": 4,
   "metadata": {},
   "outputs": [
    {
     "name": "stdout",
     "output_type": "stream",
     "text": [
      "The Sale Price is  [222523.11]\n"
     ]
    }
   ],
   "source": [
    "# This is record 2 in the main file (dataframe)\n",
    "\n",
    "inputval_c = np.array([[11250, 1786, 920, 608, 434, 920, 68.0, 2001, 9, 2001.0, 486, 2002, 42, 0, 0, 162.0, 7, 866, 6, 0]])\n",
    "\n",
    "# In the deployment please enter - Neighborhood = CollgCr, Exterior1st = VinylSd\n",
    "\n",
    "# Output - SalePrice\n",
    "\n",
    "model.predict(inputval_c)\n",
    "print (\"The Sale Price is \", model.predict(inputval_c))\n",
    "\n",
    "# 11250, 1786, 920, 608, 434, 920, 68.0, 2001, 9, 2001.0, 486, 2002, 42, 0, 0, 162.0, 7, 866, 6, 0"
   ]
  },
  {
   "cell_type": "code",
   "execution_count": null,
   "metadata": {},
   "outputs": [],
   "source": []
  }
 ],
 "metadata": {
  "kernelspec": {
   "display_name": "Python 3",
   "language": "python",
   "name": "python3"
  },
  "language_info": {
   "codemirror_mode": {
    "name": "ipython",
    "version": 3
   },
   "file_extension": ".py",
   "mimetype": "text/x-python",
   "name": "python",
   "nbconvert_exporter": "python",
   "pygments_lexer": "ipython3",
   "version": "3.8.3"
  }
 },
 "nbformat": 4,
 "nbformat_minor": 4
}
